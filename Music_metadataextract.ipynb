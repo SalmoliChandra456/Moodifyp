{
  "nbformat": 4,
  "nbformat_minor": 0,
  "metadata": {
    "colab": {
      "provenance": [],
      "authorship_tag": "ABX9TyM28GqaN4ttAuCDTk9w9DAU",
      "include_colab_link": true
    },
    "kernelspec": {
      "name": "python3",
      "display_name": "Python 3"
    },
    "language_info": {
      "name": "python"
    }
  },
  "cells": [
    {
      "cell_type": "markdown",
      "metadata": {
        "id": "view-in-github",
        "colab_type": "text"
      },
      "source": [
        "<a href=\"https://colab.research.google.com/github/SalmoliChandra456/Moodifyp/blob/main/Music_metadataextract.ipynb\" target=\"_parent\"><img src=\"https://colab.research.google.com/assets/colab-badge.svg\" alt=\"Open In Colab\"/></a>"
      ]
    },
    {
      "cell_type": "markdown",
      "source": [
        "###Gather a dataset of songs with associated metadata using Spotify’s Web API:"
      ],
      "metadata": {
        "id": "sxsSaM75cGzG"
      }
    },
    {
      "cell_type": "code",
      "source": [
        "!pip install spotipy lyricsgenius"
      ],
      "metadata": {
        "colab": {
          "base_uri": "https://localhost:8080/"
        },
        "id": "B4RS8cMHcPzo",
        "outputId": "ecb9fe82-e371-46c2-de43-31f47287f75f"
      },
      "execution_count": null,
      "outputs": [
        {
          "output_type": "stream",
          "name": "stdout",
          "text": [
            "Collecting spotipy\n",
            "  Downloading spotipy-2.23.0-py3-none-any.whl (29 kB)\n",
            "Collecting lyricsgenius\n",
            "  Downloading lyricsgenius-3.0.1-py3-none-any.whl (59 kB)\n",
            "\u001b[2K     \u001b[90m━━━━━━━━━━━━━━━━━━━━━━━━━━━━━━━━━━━━━━━━\u001b[0m \u001b[32m59.4/59.4 kB\u001b[0m \u001b[31m2.3 MB/s\u001b[0m eta \u001b[36m0:00:00\u001b[0m\n",
            "\u001b[?25hCollecting redis>=3.5.3 (from spotipy)\n",
            "  Downloading redis-5.0.4-py3-none-any.whl (251 kB)\n",
            "\u001b[2K     \u001b[90m━━━━━━━━━━━━━━━━━━━━━━━━━━━━━━━━━━━━━━━━\u001b[0m \u001b[32m252.0/252.0 kB\u001b[0m \u001b[31m6.8 MB/s\u001b[0m eta \u001b[36m0:00:00\u001b[0m\n",
            "\u001b[?25hRequirement already satisfied: requests>=2.25.0 in /usr/local/lib/python3.10/dist-packages (from spotipy) (2.31.0)\n",
            "Requirement already satisfied: six>=1.15.0 in /usr/local/lib/python3.10/dist-packages (from spotipy) (1.16.0)\n",
            "Requirement already satisfied: urllib3>=1.26.0 in /usr/local/lib/python3.10/dist-packages (from spotipy) (2.0.7)\n",
            "Requirement already satisfied: beautifulsoup4>=4.6.0 in /usr/local/lib/python3.10/dist-packages (from lyricsgenius) (4.12.3)\n",
            "Requirement already satisfied: soupsieve>1.2 in /usr/local/lib/python3.10/dist-packages (from beautifulsoup4>=4.6.0->lyricsgenius) (2.5)\n",
            "Requirement already satisfied: async-timeout>=4.0.3 in /usr/local/lib/python3.10/dist-packages (from redis>=3.5.3->spotipy) (4.0.3)\n",
            "Requirement already satisfied: charset-normalizer<4,>=2 in /usr/local/lib/python3.10/dist-packages (from requests>=2.25.0->spotipy) (3.3.2)\n",
            "Requirement already satisfied: idna<4,>=2.5 in /usr/local/lib/python3.10/dist-packages (from requests>=2.25.0->spotipy) (3.7)\n",
            "Requirement already satisfied: certifi>=2017.4.17 in /usr/local/lib/python3.10/dist-packages (from requests>=2.25.0->spotipy) (2024.2.2)\n",
            "Installing collected packages: redis, spotipy, lyricsgenius\n",
            "Successfully installed lyricsgenius-3.0.1 redis-5.0.4 spotipy-2.23.0\n"
          ]
        }
      ]
    },
    {
      "cell_type": "code",
      "execution_count": null,
      "metadata": {
        "colab": {
          "base_uri": "https://localhost:8080/"
        },
        "id": "aVuXcosvcA5y",
        "outputId": "cbbb1f53-fa94-4662-d66d-ff6b87f6a3fd"
      },
      "outputs": [
        {
          "output_type": "stream",
          "name": "stdout",
          "text": [
            "0 Set Fire to the Rain\n",
            "1 Someone Like You\n",
            "2 Rolling in the Deep\n",
            "3 Skyfall\n",
            "4 Love In The Dark\n",
            "5 When We Were Young\n",
            "6 Make You Feel My Love\n",
            "7 Easy On Me\n",
            "8 Chasing Pavements\n",
            "9 Hello\n",
            "10 Easy On Me\n",
            "11 Send My Love (To Your New Lover)\n",
            "12 Water Under the Bridge\n",
            "13 All I Ask\n",
            "14 Oh My God\n",
            "15 Rumour Has It\n",
            "16 I Drink Wine\n",
            "17 Turning Tables\n",
            "18 All Night Parking (with Erroll Garner) Interlude\n",
            "19 Can I Get It\n"
          ]
        }
      ],
      "source": [
        "import spotipy\n",
        "from spotipy.oauth2 import SpotifyClientCredentials\n",
        "\n",
        "# Set up Spotify client\n",
        "client_id = ''#your_spotify_client_id'\n",
        "client_secret = ''#your_spotify_client_secret\n",
        "client_credentials_manager = SpotifyClientCredentials(client_id=client_id, client_secret=client_secret)\n",
        "sp = spotipy.Spotify(client_credentials_manager=client_credentials_manager)\n",
        "\n",
        "# Search for songs\n",
        "results = sp.search(q='artist:\"Adele\"', limit=20)\n",
        "for idx, track in enumerate(results['tracks']['items']):\n",
        "    print(idx, track['name'])\n"
      ]
    },
    {
      "cell_type": "markdown",
      "source": [
        "###Extract audio features using Spotify’s Web API:"
      ],
      "metadata": {
        "id": "9KsMQ6H8cYwF"
      }
    },
    {
      "cell_type": "code",
      "source": [
        "# Get audio features for a track\n",
        "track_id = ''#spotify_track_id\n",
        "features = sp.audio_features([track_id])\n",
        "print(features)"
      ],
      "metadata": {
        "colab": {
          "base_uri": "https://localhost:8080/"
        },
        "id": "hfx0UcHHcaux",
        "outputId": "aa34eada-c4ae-47b8-8108-8239a78ce8be"
      },
      "execution_count": null,
      "outputs": [
        {
          "output_type": "stream",
          "name": "stdout",
          "text": [
            "[{'danceability': 0.393, 'energy': 0.641, 'key': 0, 'loudness': -6.493, 'mode': 0, 'speechiness': 0.0312, 'acousticness': 0.276, 'instrumentalness': 0, 'liveness': 0.0958, 'valence': 0.336, 'tempo': 81.932, 'type': 'audio_features', 'id': '5PvwPy5eRO8BPwpRzCHK3D', 'uri': 'spotify:track:5PvwPy5eRO8BPwpRzCHK3D', 'track_href': 'https://api.spotify.com/v1/tracks/5PvwPy5eRO8BPwpRzCHK3D', 'analysis_url': 'https://api.spotify.com/v1/audio-analysis/5PvwPy5eRO8BPwpRzCHK3D', 'duration_ms': 390223, 'time_signature': 4}]\n"
          ]
        }
      ]
    },
    {
      "cell_type": "markdown",
      "source": [
        "###Retrieve lyrics using Genius API:"
      ],
      "metadata": {
        "id": "vvP6szkNceVV"
      }
    },
    {
      "cell_type": "code",
      "source": [
        "import requests\n",
        "import base64\n",
        "\n",
        "# Your Genius API credentials\n",
        "client_id = ''\n",
        "client_secret = ''\n",
        "\n",
        "# Obtain an access token\n",
        "auth_url = 'https://api.genius.com/oauth/token'\n",
        "auth_headers = {\n",
        "    'Content-Type': 'application/x-www-form-urlencoded',\n",
        "    'Authorization': 'Basic ' + base64.b64encode(f'{client_id}:{client_secret}'.encode()).decode(),\n",
        "}\n",
        "auth_data = {\n",
        "    'grant_type': 'client_credentials',\n",
        "}\n",
        "\n",
        "access_token= 'Z73FJRXL5hSXXG-0VsQmweEk0k0MLrUM-n22rfLoTe-JS2i1He5H_DbAilKxvt_3'\n",
        "response = requests.post(auth_url, headers=auth_headers, data=auth_data)\n",
        "auth_token = response.json()['access_token']\n",
        "\n",
        "# Make API requests\n",
        "search_term = 'Kendrick Lamar'\n",
        "search_url = f'https://api.genius.com/search?q={search_term}'\n",
        "search_headers = {\n",
        "    'Authorization': f'Bearer {auth_token}',\n",
        "}\n",
        "response = requests.get(search_url, headers=search_headers)\n",
        "search_results = response.json()['response']['hits']\n",
        "print(search_results)\n"
      ],
      "metadata": {
        "colab": {
          "base_uri": "https://localhost:8080/"
        },
        "id": "59uO5j9xsnRK",
        "outputId": "9787db7d-245b-4e79-8e9a-f756d369dd74"
      },
      "execution_count": null,
      "outputs": [
        {
          "output_type": "stream",
          "name": "stdout",
          "text": [
            "[{'highlights': [], 'index': 'song', 'type': 'song', 'result': {'annotation_count': 20, 'api_path': '/songs/3039923', 'artist_names': 'Kendrick Lamar', 'full_title': 'HUMBLE. by\\xa0Kendrick\\xa0Lamar', 'header_image_thumbnail_url': 'https://images.genius.com/483306c535608c27f9e3781b854dc91d.300x300x1.png', 'header_image_url': 'https://images.genius.com/483306c535608c27f9e3781b854dc91d.1000x1000x1.png', 'id': 3039923, 'lyrics_owner_id': 104344, 'lyrics_state': 'complete', 'path': '/Kendrick-lamar-humble-lyrics', 'pyongs_count': 1202, 'relationships_index_url': 'https://genius.com/Kendrick-lamar-humble-sample', 'release_date_components': {'year': 2017, 'month': 3, 'day': 30}, 'release_date_for_display': 'March 30, 2017', 'release_date_with_abbreviated_month_for_display': 'Mar. 30, 2017', 'song_art_image_thumbnail_url': 'https://images.genius.com/483306c535608c27f9e3781b854dc91d.300x300x1.png', 'song_art_image_url': 'https://images.genius.com/483306c535608c27f9e3781b854dc91d.1000x1000x1.png', 'stats': {'unreviewed_annotations': 0, 'concurrents': 4, 'hot': False, 'pageviews': 11622295}, 'title': 'HUMBLE.', 'title_with_featured': 'HUMBLE.', 'url': 'https://genius.com/Kendrick-lamar-humble-lyrics', 'featured_artists': [], 'primary_artist': {'api_path': '/artists/1421', 'header_image_url': 'https://images.genius.com/3514a6d32afe88c48f22263e303f55d0.1000x601x1.jpg', 'id': 1421, 'image_url': 'https://images.genius.com/d6d96651b423fa5a83c38ee2a4c6c939.1000x1000x1.jpg', 'is_meme_verified': True, 'is_verified': True, 'name': 'Kendrick Lamar', 'url': 'https://genius.com/artists/Kendrick-lamar', 'iq': 58145}}}, {'highlights': [], 'index': 'song', 'type': 'song', 'result': {'annotation_count': 82, 'api_path': '/songs/90478', 'artist_names': 'Kendrick Lamar (Ft. MC Eiht)', 'full_title': '\\u200bm.A.A.d city by\\xa0Kendrick\\xa0Lamar (Ft.\\xa0MC\\xa0Eiht)', 'header_image_thumbnail_url': 'https://images.genius.com/ba5401e353bd254d47609d3d1f74ec10.300x300x1.jpg', 'header_image_url': 'https://images.genius.com/ba5401e353bd254d47609d3d1f74ec10.1000x1000x1.jpg', 'id': 90478, 'lyrics_owner_id': 103971, 'lyrics_state': 'complete', 'path': '/Kendrick-lamar-maad-city-lyrics', 'pyongs_count': 2236, 'relationships_index_url': 'https://genius.com/Kendrick-lamar-maad-city-sample', 'release_date_components': {'year': 2012, 'month': 10, 'day': 22}, 'release_date_for_display': 'October 22, 2012', 'release_date_with_abbreviated_month_for_display': 'Oct. 22, 2012', 'song_art_image_thumbnail_url': 'https://images.genius.com/ba5401e353bd254d47609d3d1f74ec10.300x300x1.jpg', 'song_art_image_url': 'https://images.genius.com/ba5401e353bd254d47609d3d1f74ec10.1000x1000x1.jpg', 'stats': {'unreviewed_annotations': 0, 'hot': False, 'pageviews': 7340677}, 'title': '\\u200bm.A.A.d city', 'title_with_featured': '\\u200bm.A.A.d city (Ft.\\xa0MC\\xa0Eiht)', 'url': 'https://genius.com/Kendrick-lamar-maad-city-lyrics', 'featured_artists': [{'api_path': '/artists/4637', 'header_image_url': 'https://images.genius.com/5f7c5b37dd412d8dcfe5318a0f05d167.396x297x1.jpg', 'id': 4637, 'image_url': 'https://images.genius.com/5f7c5b37dd412d8dcfe5318a0f05d167.396x297x1.jpg', 'is_meme_verified': False, 'is_verified': False, 'name': 'MC Eiht', 'url': 'https://genius.com/artists/Mc-eiht'}], 'primary_artist': {'api_path': '/artists/1421', 'header_image_url': 'https://images.genius.com/3514a6d32afe88c48f22263e303f55d0.1000x601x1.jpg', 'id': 1421, 'image_url': 'https://images.genius.com/d6d96651b423fa5a83c38ee2a4c6c939.1000x1000x1.jpg', 'is_meme_verified': True, 'is_verified': True, 'name': 'Kendrick Lamar', 'url': 'https://genius.com/artists/Kendrick-lamar', 'iq': 58145}}}, {'highlights': [], 'index': 'song', 'type': 'song', 'result': {'annotation_count': 48, 'api_path': '/songs/81159', 'artist_names': 'Kendrick Lamar', 'full_title': 'Swimming Pools (Drank) by\\xa0Kendrick\\xa0Lamar', 'header_image_thumbnail_url': 'https://images.genius.com/2f7273afbaf24d25f3957a4b95926fa9.300x169x1.jpg', 'header_image_url': 'https://images.genius.com/2f7273afbaf24d25f3957a4b95926fa9.535x301x1.jpg', 'id': 81159, 'lyrics_owner_id': 11524, 'lyrics_state': 'complete', 'path': '/Kendrick-lamar-swimming-pools-drank-lyrics', 'pyongs_count': 985, 'relationships_index_url': 'https://genius.com/Kendrick-lamar-swimming-pools-drank-sample', 'release_date_components': {'year': 2012, 'month': 7, 'day': 31}, 'release_date_for_display': 'July 31, 2012', 'release_date_with_abbreviated_month_for_display': 'Jul. 31, 2012', 'song_art_image_thumbnail_url': 'https://images.genius.com/31be6d410838e0668609868bf0a78e5e.300x300x1.png', 'song_art_image_url': 'https://images.genius.com/31be6d410838e0668609868bf0a78e5e.1000x1000x1.png', 'stats': {'unreviewed_annotations': 2, 'concurrents': 2, 'hot': False, 'pageviews': 6570091}, 'title': 'Swimming Pools (Drank)', 'title_with_featured': 'Swimming Pools (Drank)', 'url': 'https://genius.com/Kendrick-lamar-swimming-pools-drank-lyrics', 'featured_artists': [], 'primary_artist': {'api_path': '/artists/1421', 'header_image_url': 'https://images.genius.com/3514a6d32afe88c48f22263e303f55d0.1000x601x1.jpg', 'id': 1421, 'image_url': 'https://images.genius.com/d6d96651b423fa5a83c38ee2a4c6c939.1000x1000x1.jpg', 'is_meme_verified': True, 'is_verified': True, 'name': 'Kendrick Lamar', 'url': 'https://genius.com/artists/Kendrick-lamar', 'iq': 58145}}}, {'highlights': [], 'index': 'song', 'type': 'song', 'result': {'annotation_count': 89, 'api_path': '/songs/10341021', 'artist_names': 'Kendrick Lamar', 'full_title': '\\u200beuphoria by\\xa0Kendrick\\xa0Lamar', 'header_image_thumbnail_url': 'https://images.genius.com/fa3e7d1b6c67f1b6d447c28539ae9bf5.300x300x1.png', 'header_image_url': 'https://images.genius.com/fa3e7d1b6c67f1b6d447c28539ae9bf5.1000x1000x1.png', 'id': 10341021, 'lyrics_owner_id': 5748418, 'lyrics_state': 'complete', 'path': '/Kendrick-lamar-euphoria-lyrics', 'pyongs_count': 115, 'relationships_index_url': 'https://genius.com/Kendrick-lamar-euphoria-sample', 'release_date_components': {'year': 2024, 'month': 4, 'day': 30}, 'release_date_for_display': 'April 30, 2024', 'release_date_with_abbreviated_month_for_display': 'Apr. 30, 2024', 'song_art_image_thumbnail_url': 'https://images.genius.com/fa3e7d1b6c67f1b6d447c28539ae9bf5.300x300x1.png', 'song_art_image_url': 'https://images.genius.com/fa3e7d1b6c67f1b6d447c28539ae9bf5.1000x1000x1.png', 'stats': {'unreviewed_annotations': 3, 'concurrents': 1105, 'hot': True, 'pageviews': 6360445}, 'title': '\\u200beuphoria', 'title_with_featured': '\\u200beuphoria', 'url': 'https://genius.com/Kendrick-lamar-euphoria-lyrics', 'featured_artists': [], 'primary_artist': {'api_path': '/artists/1421', 'header_image_url': 'https://images.genius.com/3514a6d32afe88c48f22263e303f55d0.1000x601x1.jpg', 'id': 1421, 'image_url': 'https://images.genius.com/d6d96651b423fa5a83c38ee2a4c6c939.1000x1000x1.jpg', 'is_meme_verified': True, 'is_verified': True, 'name': 'Kendrick Lamar', 'url': 'https://genius.com/artists/Kendrick-lamar', 'iq': 58145}}}, {'highlights': [], 'index': 'song', 'type': 'song', 'result': {'annotation_count': 54, 'api_path': '/songs/90475', 'artist_names': 'Kendrick Lamar (Ft. Jay Rock)', 'full_title': 'Money Trees by\\xa0Kendrick\\xa0Lamar (Ft.\\xa0Jay\\xa0Rock)', 'header_image_thumbnail_url': 'https://images.genius.com/ba5401e353bd254d47609d3d1f74ec10.300x300x1.jpg', 'header_image_url': 'https://images.genius.com/ba5401e353bd254d47609d3d1f74ec10.1000x1000x1.jpg', 'id': 90475, 'lyrics_owner_id': 1328, 'lyrics_state': 'complete', 'path': '/Kendrick-lamar-money-trees-lyrics', 'pyongs_count': 993, 'relationships_index_url': 'https://genius.com/Kendrick-lamar-money-trees-sample', 'release_date_components': {'year': 2012, 'month': 10, 'day': 22}, 'release_date_for_display': 'October 22, 2012', 'release_date_with_abbreviated_month_for_display': 'Oct. 22, 2012', 'song_art_image_thumbnail_url': 'https://images.genius.com/ba5401e353bd254d47609d3d1f74ec10.300x300x1.jpg', 'song_art_image_url': 'https://images.genius.com/ba5401e353bd254d47609d3d1f74ec10.1000x1000x1.jpg', 'stats': {'unreviewed_annotations': 6, 'concurrents': 2, 'hot': False, 'pageviews': 6283084}, 'title': 'Money Trees', 'title_with_featured': 'Money Trees (Ft.\\xa0Jay\\xa0Rock)', 'url': 'https://genius.com/Kendrick-lamar-money-trees-lyrics', 'featured_artists': [{'api_path': '/artists/1403', 'header_image_url': 'https://images.genius.com/342a36ab4005da9cfd3b0292f7a748a1.1000x600x1.jpg', 'id': 1403, 'image_url': 'https://images.genius.com/e1cbef603f6c11cee182adcd55a78a87.421x421x1.jpg', 'is_meme_verified': False, 'is_verified': True, 'name': 'Jay Rock', 'url': 'https://genius.com/artists/Jay-rock', 'iq': 14458}], 'primary_artist': {'api_path': '/artists/1421', 'header_image_url': 'https://images.genius.com/3514a6d32afe88c48f22263e303f55d0.1000x601x1.jpg', 'id': 1421, 'image_url': 'https://images.genius.com/d6d96651b423fa5a83c38ee2a4c6c939.1000x1000x1.jpg', 'is_meme_verified': True, 'is_verified': True, 'name': 'Kendrick Lamar', 'url': 'https://genius.com/artists/Kendrick-lamar', 'iq': 58145}}}, {'highlights': [], 'index': 'song', 'type': 'song', 'result': {'annotation_count': 38, 'api_path': '/songs/3035222', 'artist_names': 'Kendrick Lamar', 'full_title': 'DNA. by\\xa0Kendrick\\xa0Lamar', 'header_image_thumbnail_url': 'https://images.genius.com/f3f77222e1b615e0a10354ea6282ff22.300x300x1.png', 'header_image_url': 'https://images.genius.com/f3f77222e1b615e0a10354ea6282ff22.1000x1000x1.png', 'id': 3035222, 'lyrics_owner_id': 104344, 'lyrics_state': 'complete', 'path': '/Kendrick-lamar-dna-lyrics', 'pyongs_count': 693, 'relationships_index_url': 'https://genius.com/Kendrick-lamar-dna-sample', 'release_date_components': {'year': 2017, 'month': 4, 'day': 14}, 'release_date_for_display': 'April 14, 2017', 'release_date_with_abbreviated_month_for_display': 'Apr. 14, 2017', 'song_art_image_thumbnail_url': 'https://images.genius.com/f3f77222e1b615e0a10354ea6282ff22.300x300x1.png', 'song_art_image_url': 'https://images.genius.com/f3f77222e1b615e0a10354ea6282ff22.1000x1000x1.png', 'stats': {'unreviewed_annotations': 0, 'concurrents': 4, 'hot': False, 'pageviews': 6274539}, 'title': 'DNA.', 'title_with_featured': 'DNA.', 'url': 'https://genius.com/Kendrick-lamar-dna-lyrics', 'featured_artists': [], 'primary_artist': {'api_path': '/artists/1421', 'header_image_url': 'https://images.genius.com/3514a6d32afe88c48f22263e303f55d0.1000x601x1.jpg', 'id': 1421, 'image_url': 'https://images.genius.com/d6d96651b423fa5a83c38ee2a4c6c939.1000x1000x1.jpg', 'is_meme_verified': True, 'is_verified': True, 'name': 'Kendrick Lamar', 'url': 'https://genius.com/artists/Kendrick-lamar', 'iq': 58145}}}, {'highlights': [], 'index': 'song', 'type': 'song', 'result': {'annotation_count': 25, 'api_path': '/songs/3047142', 'artist_names': 'Kendrick Lamar (Ft. U2)', 'full_title': 'XXX. by\\xa0Kendrick\\xa0Lamar (Ft.\\xa0U2)', 'header_image_thumbnail_url': 'https://images.genius.com/f3f77222e1b615e0a10354ea6282ff22.300x300x1.png', 'header_image_url': 'https://images.genius.com/f3f77222e1b615e0a10354ea6282ff22.1000x1000x1.png', 'id': 3047142, 'lyrics_owner_id': 599242, 'lyrics_state': 'complete', 'path': '/Kendrick-lamar-xxx-lyrics', 'pyongs_count': 244, 'relationships_index_url': 'https://genius.com/Kendrick-lamar-xxx-sample', 'release_date_components': {'year': 2017, 'month': 4, 'day': 14}, 'release_date_for_display': 'April 14, 2017', 'release_date_with_abbreviated_month_for_display': 'Apr. 14, 2017', 'song_art_image_thumbnail_url': 'https://images.genius.com/f3f77222e1b615e0a10354ea6282ff22.300x300x1.png', 'song_art_image_url': 'https://images.genius.com/f3f77222e1b615e0a10354ea6282ff22.1000x1000x1.png', 'stats': {'unreviewed_annotations': 0, 'hot': False, 'pageviews': 5749872}, 'title': 'XXX.', 'title_with_featured': 'XXX. (Ft.\\xa0U2)', 'url': 'https://genius.com/Kendrick-lamar-xxx-lyrics', 'featured_artists': [{'api_path': '/artists/23895', 'header_image_url': 'https://images.genius.com/66ee6f8a6abd56e7dffb7f5eb993e1d6.1000x667x1.jpg', 'id': 23895, 'image_url': 'https://images.genius.com/f0b116d184853d969520ea7a311e7ce1.667x667x1.jpg', 'is_meme_verified': False, 'is_verified': False, 'name': 'U2', 'url': 'https://genius.com/artists/U2'}], 'primary_artist': {'api_path': '/artists/1421', 'header_image_url': 'https://images.genius.com/3514a6d32afe88c48f22263e303f55d0.1000x601x1.jpg', 'id': 1421, 'image_url': 'https://images.genius.com/d6d96651b423fa5a83c38ee2a4c6c939.1000x1000x1.jpg', 'is_meme_verified': True, 'is_verified': True, 'name': 'Kendrick Lamar', 'url': 'https://genius.com/artists/Kendrick-lamar', 'iq': 58145}}}, {'highlights': [], 'index': 'song', 'type': 'song', 'result': {'annotation_count': 36, 'api_path': '/songs/90473', 'artist_names': 'Kendrick Lamar', 'full_title': \"Bitch, Don't Kill My Vibe by\\xa0Kendrick\\xa0Lamar\", 'header_image_thumbnail_url': 'https://images.genius.com/27f047e53e12100ac7af53d2a81c58e8.300x138x1.png', 'header_image_url': 'https://images.genius.com/27f047e53e12100ac7af53d2a81c58e8.1000x461x1.png', 'id': 90473, 'lyrics_owner_id': 83406, 'lyrics_state': 'complete', 'path': '/Kendrick-lamar-bitch-dont-kill-my-vibe-lyrics', 'pyongs_count': 705, 'relationships_index_url': 'https://genius.com/Kendrick-lamar-bitch-dont-kill-my-vibe-sample', 'release_date_components': {'year': 2012, 'month': 10, 'day': 22}, 'release_date_for_display': 'October 22, 2012', 'release_date_with_abbreviated_month_for_display': 'Oct. 22, 2012', 'song_art_image_thumbnail_url': 'https://images.genius.com/41cff954b71d8b975d6adb9e6fc405b1.300x300x1.jpg', 'song_art_image_url': 'https://images.genius.com/41cff954b71d8b975d6adb9e6fc405b1.640x640x1.jpg', 'stats': {'unreviewed_annotations': 1, 'concurrents': 2, 'hot': False, 'pageviews': 5154922}, 'title': 'Bitch, Don’t Kill My Vibe', 'title_with_featured': \"Bitch, Don't Kill My Vibe\", 'url': 'https://genius.com/Kendrick-lamar-bitch-dont-kill-my-vibe-lyrics', 'featured_artists': [], 'primary_artist': {'api_path': '/artists/1421', 'header_image_url': 'https://images.genius.com/3514a6d32afe88c48f22263e303f55d0.1000x601x1.jpg', 'id': 1421, 'image_url': 'https://images.genius.com/d6d96651b423fa5a83c38ee2a4c6c939.1000x1000x1.jpg', 'is_meme_verified': True, 'is_verified': True, 'name': 'Kendrick Lamar', 'url': 'https://genius.com/artists/Kendrick-lamar', 'iq': 58145}}}, {'highlights': [], 'index': 'song', 'type': 'song', 'result': {'annotation_count': 25, 'api_path': '/songs/721659', 'artist_names': 'Kendrick Lamar', 'full_title': 'King Kunta by\\xa0Kendrick\\xa0Lamar', 'header_image_thumbnail_url': 'https://images.genius.com/dbdee6a0bc883f591177e53b24e829ff.300x157x1.png', 'header_image_url': 'https://images.genius.com/dbdee6a0bc883f591177e53b24e829ff.1000x523x1.png', 'id': 721659, 'lyrics_owner_id': 599242, 'lyrics_state': 'complete', 'path': '/Kendrick-lamar-king-kunta-lyrics', 'pyongs_count': 1968, 'relationships_index_url': 'https://genius.com/Kendrick-lamar-king-kunta-sample', 'release_date_components': {'year': 2015, 'month': 3, 'day': 15}, 'release_date_for_display': 'March 15, 2015', 'release_date_with_abbreviated_month_for_display': 'Mar. 15, 2015', 'song_art_image_thumbnail_url': 'https://images.genius.com/641c289742611bd9b7cfeba07a03220d.300x288x1.jpg', 'song_art_image_url': 'https://images.genius.com/641c289742611bd9b7cfeba07a03220d.600x575x1.jpg', 'stats': {'unreviewed_annotations': 1, 'concurrents': 5, 'hot': False, 'pageviews': 4835676}, 'title': 'King Kunta', 'title_with_featured': 'King Kunta', 'url': 'https://genius.com/Kendrick-lamar-king-kunta-lyrics', 'featured_artists': [], 'primary_artist': {'api_path': '/artists/1421', 'header_image_url': 'https://images.genius.com/3514a6d32afe88c48f22263e303f55d0.1000x601x1.jpg', 'id': 1421, 'image_url': 'https://images.genius.com/d6d96651b423fa5a83c38ee2a4c6c939.1000x1000x1.jpg', 'is_meme_verified': True, 'is_verified': True, 'name': 'Kendrick Lamar', 'url': 'https://genius.com/artists/Kendrick-lamar', 'iq': 58145}}}, {'highlights': [], 'index': 'song', 'type': 'song', 'result': {'annotation_count': 39, 'api_path': '/songs/92856', 'artist_names': 'Kendrick Lamar (Ft. Drake)', 'full_title': 'Poetic Justice by\\xa0Kendrick\\xa0Lamar (Ft.\\xa0Drake)', 'header_image_thumbnail_url': 'https://images.genius.com/6f25271f0e791b852ed96e7d7d335d11.300x98x1.png', 'header_image_url': 'https://images.genius.com/6f25271f0e791b852ed96e7d7d335d11.1000x328x1.png', 'id': 92856, 'lyrics_owner_id': 110771, 'lyrics_state': 'complete', 'path': '/Kendrick-lamar-poetic-justice-lyrics', 'pyongs_count': 414, 'relationships_index_url': 'https://genius.com/Kendrick-lamar-poetic-justice-sample', 'release_date_components': {'year': 2012, 'month': 10, 'day': 22}, 'release_date_for_display': 'October 22, 2012', 'release_date_with_abbreviated_month_for_display': 'Oct. 22, 2012', 'song_art_image_thumbnail_url': 'https://images.genius.com/34fed5dbec500ae3233da1d8743fbb3e.300x300x1.jpg', 'song_art_image_url': 'https://images.genius.com/34fed5dbec500ae3233da1d8743fbb3e.600x600x1.jpg', 'stats': {'unreviewed_annotations': 5, 'concurrents': 5, 'hot': False, 'pageviews': 4741545}, 'title': 'Poetic Justice', 'title_with_featured': 'Poetic Justice (Ft.\\xa0Drake)', 'url': 'https://genius.com/Kendrick-lamar-poetic-justice-lyrics', 'featured_artists': [{'api_path': '/artists/130', 'header_image_url': 'https://images.genius.com/1d9bab6f361ecae83b071213ab2b6140.1000x564x1.jpg', 'id': 130, 'image_url': 'https://images.genius.com/cdf7576ac9cfd607cde00925ab40b12c.653x653x1.webp', 'is_meme_verified': False, 'is_verified': False, 'name': 'Drake', 'url': 'https://genius.com/artists/Drake'}], 'primary_artist': {'api_path': '/artists/1421', 'header_image_url': 'https://images.genius.com/3514a6d32afe88c48f22263e303f55d0.1000x601x1.jpg', 'id': 1421, 'image_url': 'https://images.genius.com/d6d96651b423fa5a83c38ee2a4c6c939.1000x1000x1.jpg', 'is_meme_verified': True, 'is_verified': True, 'name': 'Kendrick Lamar', 'url': 'https://genius.com/artists/Kendrick-lamar', 'iq': 58145}}}]\n"
          ]
        }
      ]
    },
    {
      "cell_type": "code",
      "source": [
        "!pip install pyLyrics"
      ],
      "metadata": {
        "colab": {
          "base_uri": "https://localhost:8080/"
        },
        "id": "NVTgzrkwair_",
        "outputId": "bbb0579e-1d61-4043-ccbf-b250cc8ad3bb"
      },
      "execution_count": null,
      "outputs": [
        {
          "output_type": "stream",
          "name": "stdout",
          "text": [
            "Requirement already satisfied: pyLyrics in /usr/local/lib/python3.10/dist-packages (1.1.0)\n",
            "Requirement already satisfied: beautifulsoup4 in /usr/local/lib/python3.10/dist-packages (from pyLyrics) (4.12.3)\n",
            "Requirement already satisfied: requests in /usr/local/lib/python3.10/dist-packages (from pyLyrics) (2.31.0)\n",
            "Requirement already satisfied: soupsieve>1.2 in /usr/local/lib/python3.10/dist-packages (from beautifulsoup4->pyLyrics) (2.5)\n",
            "Requirement already satisfied: charset-normalizer<4,>=2 in /usr/local/lib/python3.10/dist-packages (from requests->pyLyrics) (3.3.2)\n",
            "Requirement already satisfied: idna<4,>=2.5 in /usr/local/lib/python3.10/dist-packages (from requests->pyLyrics) (3.7)\n",
            "Requirement already satisfied: urllib3<3,>=1.21.1 in /usr/local/lib/python3.10/dist-packages (from requests->pyLyrics) (2.0.7)\n",
            "Requirement already satisfied: certifi>=2017.4.17 in /usr/local/lib/python3.10/dist-packages (from requests->pyLyrics) (2024.2.2)\n"
          ]
        }
      ]
    },
    {
      "cell_type": "code",
      "source": [],
      "metadata": {
        "id": "0Q56YYqgKZIi"
      },
      "execution_count": null,
      "outputs": []
    },
    {
      "cell_type": "markdown",
      "source": [],
      "metadata": {
        "id": "sk8OHeX3TxlI"
      }
    },
    {
      "cell_type": "code",
      "source": [
        "!pip install librosa sklearn nltk textblob\n"
      ],
      "metadata": {
        "colab": {
          "base_uri": "https://localhost:8080/"
        },
        "id": "73_kfFwwTyI4",
        "outputId": "dc6403d8-86af-4212-ff26-451421650c9a"
      },
      "execution_count": null,
      "outputs": [
        {
          "output_type": "stream",
          "name": "stdout",
          "text": [
            "Requirement already satisfied: librosa in /usr/local/lib/python3.10/dist-packages (0.10.1)\n",
            "Collecting sklearn\n",
            "  Downloading sklearn-0.0.post12.tar.gz (2.6 kB)\n",
            "  \u001b[1;31merror\u001b[0m: \u001b[1msubprocess-exited-with-error\u001b[0m\n",
            "  \n",
            "  \u001b[31m×\u001b[0m \u001b[32mpython setup.py egg_info\u001b[0m did not run successfully.\n",
            "  \u001b[31m│\u001b[0m exit code: \u001b[1;36m1\u001b[0m\n",
            "  \u001b[31m╰─>\u001b[0m See above for output.\n",
            "  \n",
            "  \u001b[1;35mnote\u001b[0m: This error originates from a subprocess, and is likely not a problem with pip.\n",
            "  Preparing metadata (setup.py) ... \u001b[?25l\u001b[?25herror\n",
            "\u001b[1;31merror\u001b[0m: \u001b[1mmetadata-generation-failed\u001b[0m\n",
            "\n",
            "\u001b[31m×\u001b[0m Encountered error while generating package metadata.\n",
            "\u001b[31m╰─>\u001b[0m See above for output.\n",
            "\n",
            "\u001b[1;35mnote\u001b[0m: This is an issue with the package mentioned above, not pip.\n",
            "\u001b[1;36mhint\u001b[0m: See above for details.\n"
          ]
        }
      ]
    },
    {
      "cell_type": "markdown",
      "source": [
        "In this code, extract_audio_features function takes an audio file as input, computes the spectral centroid, zero-crossing rate, and MFCCs using the librosa library, and then normalizes these features using the StandardScaler from sklearn.preprocessing.\n",
        "\n",
        "The extract_text_features function takes a text (lyrics) as input, removes stopwords and tokenizes the text using the nltk library, and then computes the sentiment of the text using the TextBlob library."
      ],
      "metadata": {
        "id": "-TOatoVGUUmc"
      }
    },
    {
      "cell_type": "code",
      "source": [
        "# Import necessary libraries\n",
        "import librosa\n",
        "import numpy as np\n",
        "from sklearn.preprocessing import StandardScaler\n",
        "from nltk.corpus import stopwords\n",
        "from nltk.tokenize import word_tokenize\n",
        "from textblob import TextBlob\n",
        "\n",
        "# For audio data\n",
        "def extract_audio_features(audio_file):\n",
        "    # Load audio file\n",
        "    y, sr = librosa.load(audio_file)\n",
        "\n",
        "    # Compute features\n",
        "    spectral_centroid = librosa.feature.spectral_centroid(y, sr=sr)\n",
        "    zero_crossing_rate = librosa.feature.zero_crossing_rate(y)\n",
        "    mfccs = librosa.feature.mfcc(y, sr=sr)\n",
        "\n",
        "    # Normalize features\n",
        "    scaler = StandardScaler()\n",
        "    spectral_centroid = scaler.fit_transform(spectral_centroid)\n",
        "    zero_crossing_rate = scaler.fit_transform(zero_crossing_rate)\n",
        "    mfccs = scaler.fit_transform(mfccs)\n",
        "\n",
        "    return spectral_centroid, zero_crossing_rate, mfccs\n",
        "\n",
        "# For text data\n",
        "def extract_text_features(text):\n",
        "    # Preprocess lyrics\n",
        "    stop_words = set(stopwords.words('english'))\n",
        "    word_tokens = word_tokenize(text)\n",
        "    filtered_text = [w for w in word_tokens if not w in stop_words]\n",
        "\n",
        "    # Extract features\n",
        "    blob = TextBlob(\" \".join(filtered_text))\n",
        "    sentiment = blob.sentiment\n",
        "    return sentiment\n"
      ],
      "metadata": {
        "id": "SGVnE7VHTzkO"
      },
      "execution_count": null,
      "outputs": []
    },
    {
      "cell_type": "markdown",
      "source": [
        "In this code, audio_features and text_features are placeholders for your actual features. The audio model is a Convolutional Neural Network (CNN) followed by a Long Short-Term Memory (LSTM) network, and the text model is an LSTM network. The outputs of both models are then concatenated and fed into a dense layer to make the final prediction."
      ],
      "metadata": {
        "id": "O-BZr4jdU4ex"
      }
    },
    {
      "cell_type": "code",
      "source": [
        "!pip install numpy keras"
      ],
      "metadata": {
        "id": "8Huu7xF9VXgA"
      },
      "execution_count": null,
      "outputs": []
    },
    {
      "cell_type": "code",
      "source": [
        "import numpy as np\n",
        "from keras.models import Model\n",
        "from keras.layers import Input, Dense, LSTM, concatenate\n",
        "from keras.layers.convolutional import Conv1D\n",
        "from keras.layers.pooling import MaxPooling1D\n",
        "\n",
        "# Assume 'audio_features' and 'text_features' are numpy arrays containing your audio and text features\n",
        "audio_features = np.random.rand(100, 37)\n",
        "text_features = np.random.rand(100, 50)\n",
        "\n",
        "# Audio model\n",
        "audio_input = Input(shape=(None, audio_features.shape[1]))\n",
        "audio_model = Conv1D(128, 5, activation='relu')(audio_input)\n",
        "audio_model = MaxPooling1D(5)(audio_model)\n",
        "audio_model = LSTM(128)(audio_model)\n",
        "\n",
        "# Text model\n",
        "text_input = Input(shape=(None, text_features.shape[1]))\n",
        "text_model = LSTM(128)(text_input)\n",
        "\n",
        "# Combined model\n",
        "combined = concatenate([audio_model, text_model])\n",
        "combined = Dense(256, activation='relu')(combined)\n",
        "output = Dense(1, activation='sigmoid')(combined)\n",
        "\n",
        "model = Model(inputs=[audio_input, text_input], outputs=output)\n",
        "model.compile(loss='binary_crossentropy', optimizer='adam', metrics=['accuracy'])\n",
        "\n",
        "# Train the model\n",
        "model.fit([audio_features, text_features], labels, epochs=10, batch_size=32)\n"
      ],
      "metadata": {
        "id": "szPgwOy7VS2Y"
      },
      "execution_count": null,
      "outputs": []
    },
    {
      "cell_type": "markdown",
      "source": [],
      "metadata": {
        "id": "KYpFvRLSWWTG"
      }
    },
    {
      "cell_type": "markdown",
      "source": [
        "Annotate your dataset with mood labels: This could be done manually by listening to the songs and reading the lyrics, or automatically using some heuristic. For example, you might use the sentiment of the lyrics to infer the mood.\n",
        "Train a classifier to predict mood: You can use any type of classifier for this task, but neural networks might be especially suitable because they can learn complex patterns and interactions between features. Here’s a basic example of how you might define and train a neural network using Keras:"
      ],
      "metadata": {
        "id": "11_oJevaWKEN"
      }
    },
    {
      "cell_type": "code",
      "source": [
        "from keras.models import Sequential\n",
        "from keras.layers import Dense\n",
        "\n",
        "# Assume 'features' and 'labels' are your combined features and mood labels\n",
        "features = ...\n",
        "labels = ...\n",
        "\n",
        "# Define the model\n",
        "model = Sequential()\n",
        "model.add(Dense(64, activation='relu', input_dim=features.shape[1]))\n",
        "model.add(Dense(64, activation='relu'))\n",
        "model.add(Dense(len(set(labels)), activation='softmax'))\n",
        "\n",
        "# Compile the model\n",
        "model.compile(loss='categorical_crossentropy', optimizer='adam', metrics=['accuracy'])\n",
        "\n",
        "# Train the model\n",
        "model.fit(features, labels, epochs=10, batch_size=32)\n"
      ],
      "metadata": {
        "id": "GrTKKWakWMmq"
      },
      "execution_count": null,
      "outputs": []
    },
    {
      "cell_type": "markdown",
      "source": [
        "Use transfer learning if you have limited data: Transfer learning is a technique where a pre-trained model is used as the starting point for a new model. This can be especially useful if you have limited data, as it allows you to leverage the features learned by the pre-trained model. In Keras, you can use transfer learning by loading a pre-trained model and adding new layers on top of it:"
      ],
      "metadata": {
        "id": "6GTXdMIIWQQH"
      }
    },
    {
      "cell_type": "code",
      "source": [
        "from keras.applications import VGG16\n",
        "from keras.models import Model\n",
        "from keras.layers import Dense\n",
        "\n",
        "# Load pre-trained VGG16 model\n",
        "base_model = VGG16(weights='imagenet', include_top=False, input_shape=(224, 224, 3))\n",
        "\n",
        "# Add new layers on top\n",
        "x = base_model.output\n",
        "x = Dense(1024, activation='relu')(x)\n",
        "predictions = Dense(len(set(labels)), activation='softmax')(x)\n",
        "\n",
        "# Define new model\n",
        "model = Model(inputs=base_model.input, outputs=predictions)\n",
        "\n",
        "# Train only the top layers\n",
        "for layer in base_model.layers:\n",
        "    layer.trainable = False\n",
        "\n",
        "# Compile the model\n",
        "model.compile(loss='categorical_crossentropy', optimizer='adam', metrics=['accuracy'])\n",
        "\n",
        "# Train the model\n",
        "model.fit(features, labels, epochs=10, batch_size=32)\n"
      ],
      "metadata": {
        "id": "DhjANMCkWRJG"
      },
      "execution_count": null,
      "outputs": []
    },
    {
      "cell_type": "markdown",
      "source": [],
      "metadata": {
        "id": "7qQitDdRWUcN"
      }
    },
    {
      "cell_type": "markdown",
      "source": [
        "In this code, features is a placeholder for your actual features. The PCA class in sklearn.decomposition is used to perform PCA. The number of components (n_components) is set to 2, but you can adjust this depending on how many dimensions you want to reduce your data to.\n",
        "\n",
        "After applying PCA, your data (features_pca) will be projected into a lower-dimensional space. You can then use this lower-dimensional data to train your mood classification model. The idea is that this lower-dimensional data still preserves most of the mood-related information in the original data.\n",
        "\n",
        "Please note that this is a basic example and the actual code might vary depending on your specific needs. You should adjust the parameters of the PCA model to best fit your data."
      ],
      "metadata": {
        "id": "QSL0rj5bWU4F"
      }
    },
    {
      "cell_type": "code",
      "source": [
        "!pip install sklearn\n"
      ],
      "metadata": {
        "id": "0ByTF9L8WXqe"
      },
      "execution_count": null,
      "outputs": []
    },
    {
      "cell_type": "code",
      "source": [
        "from sklearn.decomposition import PCA\n",
        "\n",
        "# Assume 'features' is your combined features\n",
        "features = ...\n",
        "\n",
        "# Create a PCA object\n",
        "pca = PCA(n_components=2)  # You can adjust 'n_components' as needed\n",
        "\n",
        "# Fit the PCA model to your data and apply the dimensionality reduction\n",
        "features_pca = pca.fit_transform(features)\n"
      ],
      "metadata": {
        "id": "Lgw3FM0kWw3D"
      },
      "execution_count": null,
      "outputs": []
    },
    {
      "cell_type": "markdown",
      "source": [],
      "metadata": {
        "id": "m0it5mUHWztR"
      }
    },
    {
      "cell_type": "markdown",
      "source": [
        "Create a user profile: This could be done by asking the user about their mood preferences or by analyzing their listening history. For example, if a user often listens to happy songs, you might infer that they prefer happy moods."
      ],
      "metadata": {
        "id": "xO8A0S0QXApk"
      }
    },
    {
      "cell_type": "code",
      "source": [
        "# Assume 'user_history' is a list of songs the user has listened to\n",
        "user_history = ...\n",
        "\n",
        "# Create a user profile based on the user's listening history\n",
        "user_profile = create_user_profile(user_history)\n"
      ],
      "metadata": {
        "id": "oFkqyeUfXMWJ"
      },
      "execution_count": null,
      "outputs": []
    },
    {
      "cell_type": "markdown",
      "source": [
        "Calculate similarity between songs: You can use a similarity measure, such as cosine similarity or Euclidean distance, to calculate the similarity between the reduced feature vectors of songs. The idea is that songs with similar feature vectors should have similar moods."
      ],
      "metadata": {
        "id": "JmxatX5gXNXC"
      }
    },
    {
      "cell_type": "code",
      "source": [
        "from sklearn.metrics.pairwise import cosine_similarity\n",
        "\n",
        "# Assume 'song_features' is a matrix where each row is the reduced feature vector of a song\n",
        "song_features = ...\n",
        "\n",
        "# Calculate the similarity matrix\n",
        "similarity_matrix = cosine_similarity(song_features)\n"
      ],
      "metadata": {
        "id": "BE7WgsmSXP2C"
      },
      "execution_count": null,
      "outputs": []
    },
    {
      "cell_type": "markdown",
      "source": [
        "Recommend songs: To recommend songs that match the user’s mood, you can find songs that have a similar mood to the user’s preferred mood. You can do this by looking for songs that have a high similarity score with the user’s profile.\n"
      ],
      "metadata": {
        "id": "p_ROVpAaXQ2w"
      }
    },
    {
      "cell_type": "code",
      "source": [
        "# Assume 'user_profile' is the reduced feature vector of the user's preferred mood\n",
        "user_profile = ...\n",
        "\n",
        "# Calculate the similarity between the user's profile and each song\n",
        "user_song_similarity = cosine_similarity(user_profile.reshape(1, -1), song_features)\n",
        "\n",
        "# Recommend the top 5 songs\n",
        "top_5_songs = np.argsort(user_song_similarity[0])[-5:]\n"
      ],
      "metadata": {
        "id": "s23hzgnFXRMr"
      },
      "execution_count": null,
      "outputs": []
    }
  ]
}